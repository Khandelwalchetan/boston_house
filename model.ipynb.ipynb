{
 "cells": [
  {
   "cell_type": "markdown",
   "metadata": {},
   "source": [
    "BOSTON HOUSES PREDICTION"
   ]
  },
  {
   "cell_type": "code",
   "execution_count": 25,
   "metadata": {},
   "outputs": [
    {
     "name": "stdout",
     "output_type": "stream",
     "text": [
      "58.9222384918251 %\n",
      "Mean Square Error :  33.448979997676524\n"
     ]
    }
   ],
   "source": [
    "#importing libraries\n",
    "import numpy as np\n",
    "import pandas as pd\n",
    "import matplotlib.pyplot as plt\n",
    "\n",
    "\n",
    "#importing data\n",
    "from sklearn.datasets import load_boston\n",
    "boston=load_boston()\n",
    "#print(boston.data.shape)\n",
    "#print(boston.feature_names)\n",
    "\n",
    "\n",
    "#Converting data from nd-array to dataframe and adding feature names to the data\n",
    "data=pd.DataFrame(boston.data)\n",
    "data.columns = boston.feature_names\n",
    "\n",
    "# Adding 'Price' (target) column to the data \n",
    "data['Price']=boston.target\n",
    "#print(data.head())\n",
    "\n",
    "\n",
    "\n",
    "# Input Data \n",
    "x = boston.data \n",
    "# print(x)\n",
    "# X=data.iloc[:,1:14]\n",
    "# print(X)\n",
    "   \n",
    "# Output Data \n",
    "y = boston.target \n",
    "#print(y)\n",
    "   \n",
    "   \n",
    " \n",
    "from sklearn.model_selection import train_test_split \n",
    "xtrain, xtest, ytrain, ytest = train_test_split(x, y, test_size =0.2, \n",
    "                                                    random_state = 0) \n",
    "\n",
    "\n",
    "from sklearn.linear_model import LinearRegression \n",
    "regressor = LinearRegression() \n",
    "regressor.fit(xtrain, ytrain) \n",
    "   \n",
    "# predicting the test set results \n",
    "y_pred = regressor.predict(xtest) \n",
    "\n",
    "#model_score\n",
    "accuracy=regressor.score(xtest,ytest)\n",
    "print(accuracy*100,\"%\")\n",
    "\n",
    "\n",
    "#mean squared error\n",
    "from sklearn.metrics import mean_squared_error \n",
    "mse = mean_squared_error(ytest, y_pred) \n",
    "print(\"Mean Square Error : \", mse) \n"
   ]
  },
  {
   "cell_type": "code",
   "execution_count": null,
   "metadata": {},
   "outputs": [],
   "source": []
  },
  {
   "cell_type": "code",
   "execution_count": null,
   "metadata": {},
   "outputs": [],
   "source": []
  }
 ],
 "metadata": {
  "kernelspec": {
   "display_name": "Python 3",
   "language": "python",
   "name": "python3"
  },
  "language_info": {
   "codemirror_mode": {
    "name": "ipython",
    "version": 3
   },
   "file_extension": ".py",
   "mimetype": "text/x-python",
   "name": "python",
   "nbconvert_exporter": "python",
   "pygments_lexer": "ipython3",
   "version": "3.7.1"
  }
 },
 "nbformat": 4,
 "nbformat_minor": 2
}
